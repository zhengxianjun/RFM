{
 "cells": [
  {
   "cell_type": "code",
   "execution_count": 1,
   "metadata": {
    "collapsed": true
   },
   "outputs": [],
   "source": [
    "import pandas as pd\n",
    "import numpy as np"
   ]
  },
  {
   "cell_type": "code",
   "execution_count": 4,
   "metadata": {
    "collapsed": true
   },
   "outputs": [],
   "source": [
    "FilePath = r'practice.xlsx'\n",
    "o_df = pd.read_excel(FilePath,sheetname=\"销售记录\")"
   ]
  },
  {
   "cell_type": "code",
   "execution_count": 6,
   "metadata": {
    "scrolled": true
   },
   "outputs": [
    {
     "data": {
      "text/html": [
       "<div>\n",
       "<table border=\"1\" class=\"dataframe\">\n",
       "  <thead>\n",
       "    <tr style=\"text-align: right;\">\n",
       "      <th></th>\n",
       "      <th>记录ID</th>\n",
       "      <th>客户编号</th>\n",
       "      <th>收银时间</th>\n",
       "      <th>销售金额</th>\n",
       "      <th>销售类型</th>\n",
       "    </tr>\n",
       "  </thead>\n",
       "  <tbody>\n",
       "    <tr>\n",
       "      <th>0</th>\n",
       "      <td>23351</td>\n",
       "      <td>10006</td>\n",
       "      <td>2009-09-27 20:10:22</td>\n",
       "      <td>58.0</td>\n",
       "      <td>特价</td>\n",
       "    </tr>\n",
       "    <tr>\n",
       "      <th>1</th>\n",
       "      <td>23372</td>\n",
       "      <td>30031</td>\n",
       "      <td>2009-09-27 21:33:35</td>\n",
       "      <td>69.0</td>\n",
       "      <td>特价</td>\n",
       "    </tr>\n",
       "    <tr>\n",
       "      <th>2</th>\n",
       "      <td>23447</td>\n",
       "      <td>40102</td>\n",
       "      <td>2009-09-28 21:12:34</td>\n",
       "      <td>69.0</td>\n",
       "      <td>特价</td>\n",
       "    </tr>\n",
       "    <tr>\n",
       "      <th>3</th>\n",
       "      <td>23448</td>\n",
       "      <td>20173</td>\n",
       "      <td>2009-09-28 21:12:34</td>\n",
       "      <td>69.0</td>\n",
       "      <td>特价</td>\n",
       "    </tr>\n",
       "    <tr>\n",
       "      <th>4</th>\n",
       "      <td>23449</td>\n",
       "      <td>40017</td>\n",
       "      <td>2009-09-28 21:13:48</td>\n",
       "      <td>69.0</td>\n",
       "      <td>特价</td>\n",
       "    </tr>\n",
       "  </tbody>\n",
       "</table>\n",
       "</div>"
      ],
      "text/plain": [
       "    记录ID   客户编号                收银时间  销售金额 销售类型\n",
       "0  23351  10006 2009-09-27 20:10:22  58.0   特价\n",
       "1  23372  30031 2009-09-27 21:33:35  69.0   特价\n",
       "2  23447  40102 2009-09-28 21:12:34  69.0   特价\n",
       "3  23448  20173 2009-09-28 21:12:34  69.0   特价\n",
       "4  23449  40017 2009-09-28 21:13:48  69.0   特价"
      ]
     },
     "execution_count": 6,
     "metadata": {},
     "output_type": "execute_result"
    }
   ],
   "source": [
    "o_df.head()"
   ]
  },
  {
   "cell_type": "code",
   "execution_count": 7,
   "metadata": {
    "collapsed": true
   },
   "outputs": [],
   "source": [
    "normal_data = o_df[o_df.销售类型 == \"正常\"]"
   ]
  },
  {
   "cell_type": "code",
   "execution_count": 8,
   "metadata": {},
   "outputs": [
    {
     "data": {
      "text/html": [
       "<div>\n",
       "<table border=\"1\" class=\"dataframe\">\n",
       "  <thead>\n",
       "    <tr style=\"text-align: right;\">\n",
       "      <th></th>\n",
       "      <th>记录ID</th>\n",
       "      <th>客户编号</th>\n",
       "      <th>收银时间</th>\n",
       "      <th>销售金额</th>\n",
       "      <th>销售类型</th>\n",
       "    </tr>\n",
       "  </thead>\n",
       "  <tbody>\n",
       "    <tr>\n",
       "      <th>5</th>\n",
       "      <td>23464</td>\n",
       "      <td>30132</td>\n",
       "      <td>2009-09-28 21:37:42</td>\n",
       "      <td>81.0</td>\n",
       "      <td>正常</td>\n",
       "    </tr>\n",
       "    <tr>\n",
       "      <th>6</th>\n",
       "      <td>23465</td>\n",
       "      <td>20145</td>\n",
       "      <td>2009-09-28 21:40:53</td>\n",
       "      <td>60.0</td>\n",
       "      <td>正常</td>\n",
       "    </tr>\n",
       "    <tr>\n",
       "      <th>7</th>\n",
       "      <td>23466</td>\n",
       "      <td>30087</td>\n",
       "      <td>2009-09-28 21:45:17</td>\n",
       "      <td>72.0</td>\n",
       "      <td>正常</td>\n",
       "    </tr>\n",
       "    <tr>\n",
       "      <th>8</th>\n",
       "      <td>23467</td>\n",
       "      <td>20102</td>\n",
       "      <td>2009-09-28 21:46:54</td>\n",
       "      <td>51.0</td>\n",
       "      <td>正常</td>\n",
       "    </tr>\n",
       "    <tr>\n",
       "      <th>9</th>\n",
       "      <td>23469</td>\n",
       "      <td>40051</td>\n",
       "      <td>2009-09-28 21:51:02</td>\n",
       "      <td>60.0</td>\n",
       "      <td>正常</td>\n",
       "    </tr>\n",
       "  </tbody>\n",
       "</table>\n",
       "</div>"
      ],
      "text/plain": [
       "    记录ID   客户编号                收银时间  销售金额 销售类型\n",
       "5  23464  30132 2009-09-28 21:37:42  81.0   正常\n",
       "6  23465  20145 2009-09-28 21:40:53  60.0   正常\n",
       "7  23466  30087 2009-09-28 21:45:17  72.0   正常\n",
       "8  23467  20102 2009-09-28 21:46:54  51.0   正常\n",
       "9  23469  40051 2009-09-28 21:51:02  60.0   正常"
      ]
     },
     "execution_count": 8,
     "metadata": {},
     "output_type": "execute_result"
    }
   ],
   "source": [
    "normal_data.head()"
   ]
  },
  {
   "cell_type": "code",
   "execution_count": 9,
   "metadata": {},
   "outputs": [
    {
     "name": "stdout",
     "output_type": "stream",
     "text": [
      "<class 'pandas.core.frame.DataFrame'>\n",
      "Int64Index: 15867 entries, 5 to 26660\n",
      "Data columns (total 5 columns):\n",
      "记录ID    15867 non-null int64\n",
      "客户编号    15867 non-null int64\n",
      "收银时间    15867 non-null datetime64[ns]\n",
      "销售金额    15867 non-null float64\n",
      "销售类型    15867 non-null object\n",
      "dtypes: datetime64[ns](1), float64(1), int64(2), object(1)\n",
      "memory usage: 743.8+ KB\n"
     ]
    }
   ],
   "source": [
    "normal_data.info()"
   ]
  },
  {
   "cell_type": "code",
   "execution_count": 20,
   "metadata": {},
   "outputs": [
    {
     "name": "stderr",
     "output_type": "stream",
     "text": [
      "C:\\Users\\zheng\\Anaconda3\\lib\\site-packages\\ipykernel\\__main__.py:2: SettingWithCopyWarning: \n",
      "A value is trying to be set on a copy of a slice from a DataFrame.\n",
      "Try using .loc[row_indexer,col_indexer] = value instead\n",
      "\n",
      "See the caveats in the documentation: http://pandas.pydata.org/pandas-docs/stable/indexing.html#indexing-view-versus-copy\n",
      "  from ipykernel import kernelapp as app\n"
     ]
    }
   ],
   "source": [
    "import datetime\n",
    "normal_data[\"收银日期\"] = pd.to_datetime(normal_data[\"收银时间\"],format=\"%Y-%m-%d\")"
   ]
  },
  {
   "cell_type": "code",
   "execution_count": 21,
   "metadata": {},
   "outputs": [
    {
     "data": {
      "text/html": [
       "<div>\n",
       "<table border=\"1\" class=\"dataframe\">\n",
       "  <thead>\n",
       "    <tr style=\"text-align: right;\">\n",
       "      <th></th>\n",
       "      <th>记录ID</th>\n",
       "      <th>客户编号</th>\n",
       "      <th>收银时间</th>\n",
       "      <th>销售金额</th>\n",
       "      <th>销售类型</th>\n",
       "      <th>收银日期</th>\n",
       "    </tr>\n",
       "  </thead>\n",
       "  <tbody>\n",
       "    <tr>\n",
       "      <th>5</th>\n",
       "      <td>23464</td>\n",
       "      <td>30132</td>\n",
       "      <td>2009-09-28 21:37:42</td>\n",
       "      <td>81.0</td>\n",
       "      <td>正常</td>\n",
       "      <td>2009-09-28 21:37:42</td>\n",
       "    </tr>\n",
       "    <tr>\n",
       "      <th>6</th>\n",
       "      <td>23465</td>\n",
       "      <td>20145</td>\n",
       "      <td>2009-09-28 21:40:53</td>\n",
       "      <td>60.0</td>\n",
       "      <td>正常</td>\n",
       "      <td>2009-09-28 21:40:53</td>\n",
       "    </tr>\n",
       "    <tr>\n",
       "      <th>7</th>\n",
       "      <td>23466</td>\n",
       "      <td>30087</td>\n",
       "      <td>2009-09-28 21:45:17</td>\n",
       "      <td>72.0</td>\n",
       "      <td>正常</td>\n",
       "      <td>2009-09-28 21:45:17</td>\n",
       "    </tr>\n",
       "    <tr>\n",
       "      <th>8</th>\n",
       "      <td>23467</td>\n",
       "      <td>20102</td>\n",
       "      <td>2009-09-28 21:46:54</td>\n",
       "      <td>51.0</td>\n",
       "      <td>正常</td>\n",
       "      <td>2009-09-28 21:46:54</td>\n",
       "    </tr>\n",
       "    <tr>\n",
       "      <th>9</th>\n",
       "      <td>23469</td>\n",
       "      <td>40051</td>\n",
       "      <td>2009-09-28 21:51:02</td>\n",
       "      <td>60.0</td>\n",
       "      <td>正常</td>\n",
       "      <td>2009-09-28 21:51:02</td>\n",
       "    </tr>\n",
       "  </tbody>\n",
       "</table>\n",
       "</div>"
      ],
      "text/plain": [
       "    记录ID   客户编号                收银时间  销售金额 销售类型                收银日期\n",
       "5  23464  30132 2009-09-28 21:37:42  81.0   正常 2009-09-28 21:37:42\n",
       "6  23465  20145 2009-09-28 21:40:53  60.0   正常 2009-09-28 21:40:53\n",
       "7  23466  30087 2009-09-28 21:45:17  72.0   正常 2009-09-28 21:45:17\n",
       "8  23467  20102 2009-09-28 21:46:54  51.0   正常 2009-09-28 21:46:54\n",
       "9  23469  40051 2009-09-28 21:51:02  60.0   正常 2009-09-28 21:51:02"
      ]
     },
     "execution_count": 21,
     "metadata": {},
     "output_type": "execute_result"
    }
   ],
   "source": [
    "normal_data.head()"
   ]
  },
  {
   "cell_type": "code",
   "execution_count": 39,
   "metadata": {},
   "outputs": [
    {
     "data": {
      "text/plain": [
       "5   2009-09-28 21:37:42\n",
       "6   2009-09-28 21:40:53\n",
       "7   2009-09-28 21:45:17\n",
       "8   2009-09-28 21:46:54\n",
       "9   2009-09-28 21:51:02\n",
       "Name: 收银时间, dtype: datetime64[ns]"
      ]
     },
     "execution_count": 39,
     "metadata": {},
     "output_type": "execute_result"
    }
   ],
   "source": [
    "normal_data.iloc[:5,2]"
   ]
  },
  {
   "cell_type": "code",
   "execution_count": 49,
   "metadata": {},
   "outputs": [
    {
     "name": "stderr",
     "output_type": "stream",
     "text": [
      "C:\\Users\\zheng\\Anaconda3\\lib\\site-packages\\pandas\\core\\indexing.py:477: SettingWithCopyWarning: \n",
      "A value is trying to be set on a copy of a slice from a DataFrame.\n",
      "Try using .loc[row_indexer,col_indexer] = value instead\n",
      "\n",
      "See the caveats in the documentation: http://pandas.pydata.org/pandas-docs/stable/indexing.html#indexing-view-versus-copy\n",
      "  self.obj[item] = s\n"
     ]
    }
   ],
   "source": [
    "for i in range(len(normal_data)):\n",
    "    normal_data.iloc[i,5] =normal_data.iloc[i,2].date()"
   ]
  },
  {
   "cell_type": "code",
   "execution_count": 48,
   "metadata": {},
   "outputs": [
    {
     "data": {
      "text/plain": [
       "datetime.date(2009, 9, 28)"
      ]
     },
     "execution_count": 48,
     "metadata": {},
     "output_type": "execute_result"
    }
   ],
   "source": [
    "normal_data.iloc[1,2].date()"
   ]
  },
  {
   "cell_type": "code",
   "execution_count": null,
   "metadata": {
    "collapsed": true
   },
   "outputs": [],
   "source": []
  }
 ],
 "metadata": {
  "kernelspec": {
   "display_name": "Python 3",
   "language": "python",
   "name": "python3"
  },
  "language_info": {
   "codemirror_mode": {
    "name": "ipython",
    "version": 3
   },
   "file_extension": ".py",
   "mimetype": "text/x-python",
   "name": "python",
   "nbconvert_exporter": "python",
   "pygments_lexer": "ipython3",
   "version": "3.6.0"
  }
 },
 "nbformat": 4,
 "nbformat_minor": 2
}
